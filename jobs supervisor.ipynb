{
 "cells": [
  {
   "cell_type": "code",
   "execution_count": 1,
   "id": "27ec27df",
   "metadata": {},
   "outputs": [],
   "source": [
    "from selenium import webdriver\n",
    "from selenium.webdriver import Keys\n",
    "from selenium.webdriver.common.by import By\n",
    "from linkedin_scraper import actions"
   ]
  },
  {
   "cell_type": "code",
   "execution_count": 2,
   "id": "5722373a",
   "metadata": {},
   "outputs": [],
   "source": [
    "chrome_options = webdriver.ChromeOptions()\n",
    "chrome_options.add_experimental_option(\"detach\", True)\n",
    "driver = webdriver.Chrome(options=chrome_options)\n",
    "\n",
    "email = \"salhiabdelhamid01@gmail.com\"\n",
    "password = \"TEST@TEST11\"\n",
    "#email = \"essalhi12345@gmail.com\"\n",
    "#password = \"HAMID@ESSALHI11\"\n",
    "\n",
    "actions.login(driver, email, password, timeout=30)  # if email and password isnt given, it'll prompt in terminal"
   ]
  },
  {
   "cell_type": "code",
   "execution_count": 3,
   "id": "142510e4",
   "metadata": {
    "scrolled": true
   },
   "outputs": [
    {
     "name": "stdout",
     "output_type": "stream",
     "text": [
      "Applied 1 week ago\n",
      "Promoted\n",
      "Applied 1 day ago\n",
      "Promoted\n",
      "16 minutes ago\n",
      "Within the past 24 hours\n",
      "Promoted\n",
      "Promoted\n"
     ]
    }
   ],
   "source": [
    "# Python URL\n",
    "url = \"https://www.linkedin.com/jobs/search/?currentJobId=3162047620&distance=700&f_AL=true&f_CR=103644278%2C102787409%2C101165590&f_E=2%2C3%2C4&f_F=it%2Ceng%2Cqa%2Cfin%2Ccnsl%2Cbd%2Cothr%2Cprdm%2Canls%2Ccust%2Cprjm%2Crsch&f_I=96%2C6%2C4%2C104%2C3231%2C3132%2C43%2C84%2C137%2C118%2C123%2C41%2C53%2C108&f_JT=F%2CP%2CC%2CT%2CO&f_PP=105214831%2C105556991%2C100495523%2C103077496%2C106164952%2C102571732%2C102277331%2C106224388%2C104472865%2C103671728%2C105466038%2C107116391%2C103693101%2C106088647%2C106672002%2C100075706%2C101421689%2C102244498%2C103089792&f_T=9%2C25169%2C30006%2C25201%2C2732%2C10738%2C25194%2C25170%2C39%2C25764%2C4384%2C14893%2C17265&f_WT=1%2C3%2C2&geoId=92000000&keywords=python%20developer&origin=JOB_SEARCH_PAGE_JOB_FILTER&sortBy=DD\"\n",
    "# url = \"https://www.python.org/\"\n",
    "driver.get(url)\n",
    "driver.implicitly_wait(3)\n",
    "for i in range(0, 20):\n",
    "    driver.find_element(By.TAG_NAME, 'body').send_keys(Keys.PAGE_DOWN)\n",
    "\n",
    "jobs = driver.find_elements(By.XPATH, \"//*[contains(@class, 'job-card-container__footer-item') and not(contains(@class, 'job-card-container__apply-method'))]\")\n",
    "# pprint(r.text)\n",
    "for job in jobs:\n",
    "    print(job.text)"
   ]
  },
  {
   "cell_type": "code",
   "execution_count": 4,
   "id": "86b676f8",
   "metadata": {},
   "outputs": [
    {
     "name": "stdout",
     "output_type": "stream",
     "text": [
      "https://www.linkedin.com/jobs/search/?currentJobId=3739474442\n"
     ]
    }
   ],
   "source": [
    "filtered_jobs = []\n",
    "for job in jobs:\n",
    "    if(job.text != \"Promoted\"):\n",
    "        job.click()\n",
    "        title = driver.find_element(By.XPATH, \"//*[contains(@class, 't-24') and (contains(@class, 't-bold job-details-jobs-unified-top-card__job-title'))]\")\n",
    "        normalize_title = title.text.lower().replace(\"é\", \"e\").replace(\"è\", \"e\").replace(\"ù\", \"u\").replace(\"û\", \"u\").replace(\"î\", \"i\")\n",
    "        job_element = job.find_element(By.XPATH, \"../..\")\n",
    "        job_id = job_element.get_attribute(\"data-job-id\")\n",
    "        selected_job_url = \"https://www.linkedin.com/jobs/search/?currentJobId=\" + job_id\n",
    "        if \"python\" in normalize_title:\n",
    "            filtered_jobs.append(selected_job_url)\n",
    "        else:\n",
    "            job_description = driver.find_element(By.XPATH, \"//*[contains(@class, 'jobs-description-content__text') and (contains(@class, 'jobs-description-content__text--stretch'))]\")\n",
    "            if \"python\" in job_description.text:\n",
    "                filtered_jobs.append(selected_job_url)\n",
    "for i in filtered_jobs:\n",
    "    print(i)"
   ]
  },
  {
   "cell_type": "code",
   "execution_count": 5,
   "id": "d5c29947",
   "metadata": {},
   "outputs": [],
   "source": [
    "\n",
    "for i in range(0, 20):\n",
    "    #element = driver.find_element(By.CSS_SELECTOR, '.jobs-search-results-list').send_keys(Keys.PAGE_DOWN)\n",
    "    element = driver.find_element(By.CSS_SELECTOR, '.jobs-search-results-list') # check if this work first try xpath\n",
    "\n",
    "    driver.execute_script(\"arguments[0].scrollIntoView(true);\", element)"
   ]
  }
 ],
 "metadata": {
  "kernelspec": {
   "display_name": "Python 3",
   "language": "python",
   "name": "python3"
  },
  "language_info": {
   "codemirror_mode": {
    "name": "ipython",
    "version": 3
   },
   "file_extension": ".py",
   "mimetype": "text/x-python",
   "name": "python",
   "nbconvert_exporter": "python",
   "pygments_lexer": "ipython3",
   "version": "3.11.0"
  },
  "vscode": {
   "interpreter": {
    "hash": "c261aea317cc0286b3b3261fbba9abdec21eaa57589985bb7a274bf54d6cc0a7"
   }
  }
 },
 "nbformat": 4,
 "nbformat_minor": 5
}
