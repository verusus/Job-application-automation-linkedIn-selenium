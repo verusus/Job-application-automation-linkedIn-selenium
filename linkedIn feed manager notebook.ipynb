{
 "cells": [
  {
   "cell_type": "code",
   "execution_count": 3,
   "id": "914afa1c",
   "metadata": {},
   "outputs": [],
   "source": [
    "from selenium import webdriver\n",
    "from selenium.webdriver import Keys\n",
    "from selenium.webdriver.common.by import By\n",
    "from linkedin_scraper import actions\n",
    "import re\n",
    "from pprint import pprint\n",
    "import pandas as pd\n"
   ]
  },
  {
   "cell_type": "code",
   "execution_count": 4,
   "id": "f51cedce",
   "metadata": {},
   "outputs": [],
   "source": [
    "chrome_options = webdriver.ChromeOptions()\n",
    "chrome_options.add_experimental_option(\"detach\", True)\n",
    "driver = webdriver.Chrome(options=chrome_options)\n",
    "\n",
    "email = \"salhiabdelhamid01@gmail.com\"\n",
    "password = \"TEST@TEST11\"\n",
    "\n",
    "actions.login(driver, email, password, timeout=30)  # if email and password isnt given, it'll prompt in terminal"
   ]
  },
  {
   "cell_type": "code",
   "execution_count": 7,
   "id": "abd21a79",
   "metadata": {},
   "outputs": [],
   "source": [
    "for i in range(0, 10):\n",
    "    driver.find_element(By.TAG_NAME, 'body').send_keys(Keys.PAGE_DOWN)"
   ]
  },
  {
   "cell_type": "code",
   "execution_count": 8,
   "id": "c718421e",
   "metadata": {},
   "outputs": [
    {
     "name": "stdout",
     "output_type": "stream",
     "text": [
      "The number of posts treated is: 28\n"
     ]
    }
   ],
   "source": [
    "posts_content_list = driver.find_elements(By.XPATH, \"//div[@data-id]\")\n",
    "filtered_posts = {}\n",
    "print(f\"The number of posts treated is: {len(posts_content_list)}\")"
   ]
  },
  {
   "cell_type": "code",
   "execution_count": 5,
   "id": "228b94b1",
   "metadata": {},
   "outputs": [],
   "source": [
    "def calculate_weight(keywords_list, dict_key):\n",
    "    for key in keywords_list:\n",
    "        if key in normalized_post:\n",
    "            post_dict[dict_key] += 1\n"
   ]
  },
  {
   "cell_type": "code",
   "execution_count": 6,
   "id": "ae94ebb6",
   "metadata": {},
   "outputs": [],
   "source": [
    "prerequested_keywords = [\"python\", \"java\", \"jee\", \"j2e\", \"spring\", \"angular\", \"data science\", \"data analyst\", \"data scientist\", \"data engineer\", \"jupyter\"]\n",
    "exclude_keywords = [\"يهود\", \"صهيوني\", \"deces\", \"cancer\", \"depression\", \"malaise\", \"malade\", \"maladie\", \"sick\", \"israel\", \"palestine\", \"feel\", \"pain\", \"trick\", \"astuce\", \"course\", \"cours\", \"i'm glad\", \"i am glad\", \"i would love\", \"book\", \"I would like to thank\", \"remercier\", \"big thank\", \"quotidien\", \"B2B\", \"marketing\", \"paid\", \"trial\", \"stage\", \"pfe\", \"soutenance\", \"erreur\", \"famille\", \"amis\", \n",
    "                    \"family\", \"friends\", \"soutien\", \"thesis\", \"gratitude\", \"grateful\",\n",
    "                    \"supervisor\", \"support\", \"at least 4\", \"at least 5\", \"at least 6\", \"at least 7\", \"at least 8\",\n",
    "                    \"8 ans\", \"7 ans\", \"6 ans\", \"5 ans\", \"4 ans\", \"8ans\", \"7ans\", \"6ans\", \"5ans\", \"4ans\",\n",
    "                     \"8 year\", \"7 year\", \"6 year\", \"5 year\", \"4 year\", \"8year\", \"7year\", \"6year\", \"5year\", \"4year\", \"préten\",\n",
    "                   \"conseil\", \"les recruteurs\", \"immense\", \"suis ravi\", \"finance\", \"business\", \"pleased to\", \"profonde\"]\n",
    "is_hiring = [\"@\", \"resume\", \"cv\", \"recrutement\", \"join\", \"rejoin\", \"recrute\", \"ressource\", \"recruit\", \"hiring\", \"hire\", \"job\", \"work\", \n",
    "             \"hr\", \"talent\", \"aquisition\", \"human\", \"fresher\", \"jobopening\", \"opening\", \"seek\",\n",
    "             \"postule\", \"challenge\", \"role\", \"reach\", \"contrat\", \"cdi\", \"cdd\", \"freelance\",\n",
    "             \"application\", \"condidature\", \"resource\", \"humain\", \"recherche\", \"look\", \"offre\", \"offer\", \"opening\",\n",
    "             \"employment\", \"opportunit\", \"vacanc\", \"career\", \"position\", \"emploi\", \"poste\", \"carriere\", \"embauche\"]\n",
    "is_first_priority = [\"junior\", \"jr\", \"jnr\", \"fraichement\", \"young\", \"graduated\", \"graduates\", \"entry\"]\n",
    "\n",
    "python_keywords = [\"beautifulsoup\", \"bs4\", \"playwright\", \"openpyxl\", \"scraping\", \"scrap\", \"pandas\",\n",
    "                   \"pycharm\", \"tkinter\", \"django\", \"flask\", \"data\",\n",
    "                   \"jupyter\", \"analysis\"]\n",
    "java_keywords = [\"spring\", \"boot\", \"angular\", \"hibernate\", \"hql\"]\n",
    "common_keywords = [\"css\", \"html\", \"ingenieur\", \"engineer\", \"excel\", \"backend\", \"back end\", \"back-end\", \"frontend\", \"front end\", \"front-end\", \"selenium\", \"web\", \"api\", \"security\", \"keycloack\", \"developer\", \"full\",\n",
    "                   \"stack\", \"developpeur\", \"git\", \"program\", \"automation\", \"automatisation\", \"data\", \"données\",\n",
    "                   \"software\", \"scrum\", \"agile\", \"oracle\", \"twilio\", \"tequila\", \"sql\", \"docker\", \"ci\", \"cd\", \"qa\"]\n"
   ]
  },
  {
   "cell_type": "code",
   "execution_count": 7,
   "id": "a1db0a86",
   "metadata": {},
   "outputs": [],
   "source": [
    "def no_excluded(post):\n",
    "    \"\"\"if no keyword from the excluded list is present in the post, it returns True\"\"\"\n",
    "    for exclude_key in exclude_keywords:\n",
    "        if exclude_key in post:\n",
    "            return False\n",
    "    return True\n",
    "\n",
    "def is_today(post):\n",
    "    \"\"\"checks the post if it is posted today and ignores sponsored posts\"\"\"\n",
    "    # Define the pattern using regular expression\n",
    "    pattern = r'\\b\\d{1,2}[mh]\\b'  # Matches one to three digits followed by m or h\n",
    "\n",
    "    # Use re.search() to find the pattern in the text\n",
    "    match = re.search(pattern, post.text.split(\" •\")[0])\n",
    "\n",
    "    # If there is a match, return True, else return False\n",
    "    if match:\n",
    "        return True\n",
    "    else:\n",
    "        return False"
   ]
  },
  {
   "cell_type": "code",
   "execution_count": 8,
   "id": "49d457f7",
   "metadata": {},
   "outputs": [],
   "source": [
    "post_urls = []\n",
    "\n",
    "for post in posts_content_list:\n",
    "    normalized_post = post.text.lower().replace(\"é\", \"e\").replace(\"è\", \"e\").replace(\"ù\", \"u\").replace(\"û\", \"u\") \\\n",
    "        .replace(\"î\", \"i\")\n",
    "    for prerequested_keyword in prerequested_keywords:\n",
    "        post_dict = {\"hiring_weight\": 0, \"priority_weight\": 0, \"python_weight\": 0,\n",
    "                     \"java_weight\": 0, \"common_weight\": 0, \"post_url\": \"\"}\n",
    "        if prerequested_keyword in normalized_post and no_excluded(normalized_post) and is_today(post):\n",
    "            # print(f\"https://www.linkedin.com/feed/update/{post.get_attribute('data-id')}/\")\n",
    "            # todo: check weither the url is already exists or not\n",
    "            post_url = f\"https://www.linkedin.com/feed/update/{post.get_attribute('data-id')}/\"\n",
    "            if post_url not in post_urls:\n",
    "                calculate_weight(is_hiring, \"hiring_weight\")\n",
    "                calculate_weight(is_first_priority, \"priority_weight\")\n",
    "                calculate_weight(python_keywords, \"python_weight\")\n",
    "                calculate_weight(java_keywords, \"java_weight\")\n",
    "                calculate_weight(common_keywords, \"common_weight\")\n",
    "                post_dict[\"post_url\"] = post_url\n",
    "                post_urls.append(post_url)\n",
    "                try:\n",
    "                    filtered_posts[prerequested_keyword][\"posts\"].append(post_dict)\n",
    "                except KeyError:\n",
    "                    filtered_posts[prerequested_keyword] = {\"posts\": [post_dict]}\n",
    "# todo: check if not promoted then filter only those with m for minutes and h for hours"
   ]
  },
  {
   "cell_type": "code",
   "execution_count": 9,
   "id": "55eff0c5",
   "metadata": {},
   "outputs": [
    {
     "name": "stdout",
     "output_type": "stream",
     "text": [
      "{}\n"
     ]
    }
   ],
   "source": [
    "# make counts \n",
    "for key in filtered_posts.keys():\n",
    "    \n",
    "    filtered_posts[key][\"count\"] = len(filtered_posts[key][\"posts\"])\n",
    "pprint(filtered_posts)"
   ]
  },
  {
   "cell_type": "code",
   "execution_count": 10,
   "id": "f1eb316b",
   "metadata": {
    "scrolled": true
   },
   "outputs": [
    {
     "name": "stdout",
     "output_type": "stream",
     "text": [
      "Empty DataFrame\n",
      "Columns: [category, count, hiring_weight, priority_weight, python_weight, java_weight, common_weight, post_url]\n",
      "Index: []\n"
     ]
    }
   ],
   "source": [
    "flattened_data = []\n",
    "for category, info in filtered_posts.items():\n",
    "    count = info['count']\n",
    "    for post in info['posts']:\n",
    "        hiring_weight = post['hiring_weight']\n",
    "        priority_weight = post['priority_weight']\n",
    "        python_weight = post['python_weight']\n",
    "        java_weight = post['java_weight']\n",
    "        common_weight = post['common_weight']\n",
    "        post_url = post['post_url']\n",
    "        flattened_data.append([category, count, hiring_weight, priority_weight, python_weight, java_weight, common_weight, post_url])\n",
    "\n",
    "# Create a pandas DataFrame\n",
    "columns = ['category', 'count', 'hiring_weight', 'priority_weight', 'python_weight', 'java_weight', 'common_weight', 'post_url']\n",
    "df = pd.DataFrame(flattened_data, columns=columns)\n",
    "\n",
    "# Print the resulting DataFrame\n",
    "print(df)"
   ]
  },
  {
   "cell_type": "code",
   "execution_count": 11,
   "id": "718a1cc8",
   "metadata": {
    "scrolled": true
   },
   "outputs": [
    {
     "name": "stdout",
     "output_type": "stream",
     "text": [
      "Empty DataFrame\n",
      "Columns: [category, count, hiring_weight, priority_weight, python_weight, java_weight, common_weight, post_url]\n",
      "Index: []\n"
     ]
    }
   ],
   "source": [
    "sorted_df = df.sort_values(by=['category', 'hiring_weight', 'priority_weight', 'python_weight', 'java_weight', 'common_weight'], ascending=[True, False, False, False, False, False])\n",
    "print(sorted_df)"
   ]
  },
  {
   "cell_type": "code",
   "execution_count": 12,
   "id": "0580f7fa",
   "metadata": {},
   "outputs": [],
   "source": [
    "sorted_df.to_excel('C:\\\\Users\\\\Administrator\\\\Desktop\\\\sorted_data.xlsx', index=False)"
   ]
  },
  {
   "cell_type": "code",
   "execution_count": 13,
   "id": "cb74a802",
   "metadata": {},
   "outputs": [
    {
     "name": "stdout",
     "output_type": "stream",
     "text": [
      "{'python': {'posts': [{'common_weight': 1,\n",
      "                       'hiring_weight': 1,\n",
      "                       'java_weight': 0,\n",
      "                       'post_url': 'https://www.linkedin.com/feed/update/',\n",
      "                       'priority_weight': 3,\n",
      "                       'python_weight': 0}]}}\n"
     ]
    }
   ],
   "source": [
    "# todo: categorize weights and multiply depending on importance\n",
    "post_urls = []\n",
    "filtered_posts = {}\n",
    "normalized_post = \"#hiring nous recrutons un developpeur python junior jr jnr\"\n",
    "for prerequested_keyword in prerequested_keywords:\n",
    "    post_dict = {\"hiring_weight\": 0, \"priority_weight\": 0, \"python_weight\": 0,\n",
    "                 \"java_weight\": 0, \"common_weight\": 0, \"post_url\": \"\"}\n",
    "    if prerequested_keyword in normalized_post and no_excluded(normalized_post):\n",
    "        # print(f\"https://www.linkedin.com/feed/update/{post.get_attribute('data-id')}/\")\n",
    "        # todo: check weither the url is already exists or not\n",
    "        post_url = f\"https://www.linkedin.com/feed/update/\"\n",
    "        if post_url not in post_urls:\n",
    "            calculate_weight(is_hiring, \"hiring_weight\")\n",
    "            calculate_weight(is_first_priority, \"priority_weight\")\n",
    "            calculate_weight(python_keywords, \"python_weight\")\n",
    "            calculate_weight(java_keywords, \"java_weight\")\n",
    "            calculate_weight(common_keywords, \"common_weight\")\n",
    "            post_dict[\"post_url\"] = post_url\n",
    "            post_urls.append(post_url)\n",
    "            try:\n",
    "                filtered_posts[prerequested_keyword][\"posts\"].append(post_dict)\n",
    "            except KeyError:\n",
    "                filtered_posts[prerequested_keyword] = {\"posts\": [post_dict]}\n",
    "pprint(filtered_posts)"
   ]
  },
  {
   "cell_type": "code",
   "execution_count": null,
   "id": "c809591a",
   "metadata": {},
   "outputs": [],
   "source": []
  }
 ],
 "metadata": {
  "kernelspec": {
   "display_name": "base",
   "language": "python",
   "name": "python3"
  },
  "language_info": {
   "codemirror_mode": {
    "name": "ipython",
    "version": 3
   },
   "file_extension": ".py",
   "mimetype": "text/x-python",
   "name": "python",
   "nbconvert_exporter": "python",
   "pygments_lexer": "ipython3",
   "version": "3.11.4"
  },
  "vscode": {
   "interpreter": {
    "hash": "3c06e3e46abf38078fe4dac36a0085ec2b134ebbd73dd076183d243eeca6918f"
   }
  }
 },
 "nbformat": 4,
 "nbformat_minor": 5
}
