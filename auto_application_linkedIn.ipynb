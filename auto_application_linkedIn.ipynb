{
 "cells": [
  {
   "cell_type": "code",
   "execution_count": 80,
   "metadata": {},
   "outputs": [],
   "source": [
    "import time\n",
    "\n",
    "from selenium import webdriver\n",
    "from selenium.webdriver.common.by import By\n",
    "\n",
    "from linkedin_scraper import actions\n",
    "from selenium.common.exceptions import NoSuchElementException, StaleElementReferenceException\n",
    "from selenium.webdriver.support.ui import WebDriverWait\n"
   ]
  },
  {
   "cell_type": "code",
   "execution_count": 81,
   "metadata": {},
   "outputs": [],
   "source": [
    "chrome_options = webdriver.ChromeOptions()\n",
    "chrome_options.add_experimental_option(\"detach\", True)\n",
    "\n",
    "driver = webdriver.Chrome(options=chrome_options)\n",
    "\n",
    "\n",
    "email = \"salhiabdelhamid01@gmail.com\"\n",
    "password = \"TEST@TEST11\"\n",
    "actions.login(driver, email, password) # if email and password isnt given, it'll prompt in terminal\n",
    "# Navigate to a URL\n",
    "url = \"https://www.linkedin.com/jobs/search/?currentJobId=3711478515&distance=25&f_AL=true&f_E=2%2C3%2C4&f_F=it%2Ceng%2Cbd%2Ccnsl%2Cothr%2Cfin%2Cprjm%2Canls%2Cprdm%2Cqa%2Crsch%2Ccust&f_I=96%2C6%2C4%2C3132%2C104%2C43%2C3231%2C84%2C137%2C41%2C108%2C123%2C53%2C118&f_JT=F%2CP%2CC%2CT%2CO&f_PP=105214831%2C105556991%2C100495523%2C103077496%2C106164952%2C102571732%2C102277331%2C106224388%2C104472865%2C103671728%2C105466038%2C107116391%2C103693101%2C106088647%2C106672002%2C100075706%2C101421689%2C102244498%2C103089792&f_T=9%2C25201%2C25194%2C25169%2C10738%2C17265%2C25170%2C39%2C30006%2C14893%2C25764%2C2732%2C4384&f_WT=1%2C3%2C2&geoId=92000000&keywords=python%20developer&sortBy=DD\"\n",
    "# url = \"https://www.python.org/\"\n",
    "driver.get(url)"
   ]
  },
  {
   "cell_type": "code",
   "execution_count": 82,
   "metadata": {},
   "outputs": [],
   "source": [
    "jobs = driver.find_elements(By.XPATH, \"//div[@data-job-id]\")\n",
    "jobs[0].click()\n",
    "# driver.find_element(By.XPATH, \"//button[contains(@aria-label, 'Easy Apply to')]\").click()\n",
    "\n",
    "for job in jobs:\n",
    "    driver.implicitly_wait(2)\n",
    "    job.click()\n",
    "    driver.implicitly_wait(3)\n",
    "    try:\n",
    "        driver.find_element(By.XPATH, \"//button[contains(@aria-label, 'Easy Apply to')]\").click()\n",
    "        \n",
    "        try:\n",
    "            driver.find_element(By.XPATH, \"//span[text()='Submit application']\").click()\n",
    "            driver.implicitly_wait(2)\n",
    "            driver.find_element(By.XPATH, \"//button[@data-test-modal-close-btn]\").click()\n",
    "        except NoSuchElementException:\n",
    "            driver.find_element(By.XPATH, \"//button[@data-test-modal-close-btn]\").click()\n",
    "            driver.find_element(By.XPATH, \"//button[@data-test-dialog-secondary-btn]\").click()\n",
    "    except NoSuchElementException:\n",
    "        continue\n",
    "    except StaleElementReferenceException:\n",
    "        driver.find_element(By.XPATH, \"//button[contains(@aria-label, 'Easy Apply to')]\").click()\n",
    "        try:\n",
    "            driver.find_element(By.XPATH, \"//span[text()='Submit application']\").click()\n",
    "            driver.implicitly_wait(2)\n",
    "            driver.find_element(By.XPATH, \"//button[@data-test-modal-close-btn]\").click()\n",
    "        except NoSuchElementException:\n",
    "            driver.find_element(By.XPATH, \"//button[@data-test-modal-close-btn]\").click()\n",
    "            driver.find_element(By.XPATH, \"//button[@data-test-dialog-secondary-btn]\").click()"
   ]
  }
 ],
 "metadata": {
  "kernelspec": {
   "display_name": "condaenv",
   "language": "python",
   "name": "python3"
  },
  "language_info": {
   "codemirror_mode": {
    "name": "ipython",
    "version": 3
   },
   "file_extension": ".py",
   "mimetype": "text/x-python",
   "name": "python",
   "nbconvert_exporter": "python",
   "pygments_lexer": "ipython3",
   "version": "3.10.12"
  },
  "orig_nbformat": 4,
  "vscode": {
   "interpreter": {
    "hash": "e2a5dbda1de5144eef4acdf31681e9164345c0a6c68200dd13692839b4eda4c6"
   }
  }
 },
 "nbformat": 4,
 "nbformat_minor": 2
}
